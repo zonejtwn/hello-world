{
 "cells": [
  {
   "cell_type": "code",
   "execution_count": null,
   "metadata": {},
   "outputs": [],
   "source": [
    "from keras.applications.vgg16 import VGG16\n",
    "from keras.preprocessing import image\n",
    "from keras.applications.vgg16 import preprocess_input, decode_predictions\n",
    "import numpy as np\n",
    "import os\n",
    "import sys\n",
    "\n",
    "# 計算相似矩陣\n",
    "def cosine_similarity(ratings):\n",
    "    sim = ratings.dot(ratings.T)\n",
    "    if not isinstance(sim, np.ndarray):\n",
    "        sim = sim.toarray()\n",
    "    norms = np.array([np.sqrt(np.diagonal(sim))])\n",
    "    return (sim / norms / norms.T)\n",
    "    \n",
    "def main():\n",
    "    # 自 images 目錄找出所有 JPEG 檔案    \n",
    "    y_test=[]\n",
    "    x_test=[]\n",
    "    for img_path in os.listdir(\"images\"):\n",
    "        if img_path.endswith(\".jpg\"):\n",
    "            img = image.load_img(\"images/\"+img_path, target_size=(224, 224))\n",
    "            y_test.append(img_path[0:4])\n",
    "            x = image.img_to_array(img)\n",
    "            x = np.expand_dims(x, axis=0)\n",
    "            if len(x_test) > 0:\n",
    "                x_test = np.concatenate((x_test,x))\n",
    "            else:\n",
    "                x_test=x\n",
    "    \n",
    "    # 轉成 VGG 的 input 格式\n",
    "    x_test = preprocess_input(x_test)\n",
    "\n",
    "    # include_top=False，表示會載入 VGG16 的模型，不包括加在最後3層的卷積層，通常是取得 Features (1,7,7,512)\n",
    "    model = VGG16(weights='imagenet', include_top=False) \n",
    "\n",
    "\n",
    "    # 萃取特徵\n",
    "    features = model.predict(x_test)\n",
    "    # 計算相似矩陣\n",
    "    features_compress = features.reshape(len(y_test),7*7*512)\n",
    "    sim = cosine_similarity(features_compress)\n",
    "\n",
    "    # 隨機取1個樣本測試\n",
    "    #inputNo = np.random.randint(0,len(y_test),1)[0]\n",
    "    # 依命令行參數，取1個樣本測試測試\n",
    "    inputNo = int(sys.argv[1]) # tiger, np.random.randint(0,len(y_test),1)[0]\n",
    "    top = np.argsort(-sim[inputNo], axis=0)[1:3]\n",
    "\n",
    "    # 取得最相似的前2名序號\n",
    "    recommend = [y_test[i] for i in top]\n",
    "    print(recommend)\n",
    "\n",
    "if __name__ == \"__main__\":\n",
    "    main()"
   ]
  }
 ],
 "metadata": {
  "kernelspec": {
   "display_name": "Python 3",
   "language": "python",
   "name": "python3"
  },
  "language_info": {
   "codemirror_mode": {
    "name": "ipython",
    "version": 3
   },
   "file_extension": ".py",
   "mimetype": "text/x-python",
   "name": "python",
   "nbconvert_exporter": "python",
   "pygments_lexer": "ipython3",
   "version": "3.7.3"
  }
 },
 "nbformat": 4,
 "nbformat_minor": 2
}
